{
 "cells": [
  {
   "cell_type": "markdown",
   "metadata": {},
   "source": [
    "## **Project Overview**  \n",
    "\n",
    "The purpose of this project is to master **Exploratory Data Analysis (EDA)** in the job market domain using the **Pandas framework** for data manipulation and **Matplotlib & Seaborn** for visualization.  \n",
    "\n",
    "### **Goals of the Project:**  \n",
    "- Explore a job market dataset using **Pandas**.  \n",
    "- Identify the **most in-demand job titles** and **top hiring companies**.  \n",
    "- Analyze **salary distributions** and **experience requirements**.  \n",
    "- Determine the **best locations for tech jobs** based on demand and salary trends.  \n",
    "- Build **pivot tables** to summarize key insights.  \n",
    "- Visualize the dataset using **various plot types** for better interpretation."
   ]
  },
  {
   "cell_type": "markdown",
   "metadata": {},
   "source": [
    "## **Outline**  \n",
    "- Materials and Methods\n",
    "- General Part\n",
    "  - Libraries Import\n",
    "  - Dataset Exploration\n",
    "  - Pivot Tables\n",
    "  - Visualization in Pandas\n",
    "- Tasks"
   ]
  },
  {
   "cell_type": "markdown",
   "metadata": {},
   "source": [
    "## **Materials and Methods**"
   ]
  },
  {
   "cell_type": "markdown",
   "metadata": {},
   "source": [
    "The dataset consists of job postings collected from various sources, including job titles, company names, salaries, required experience, and job locations. It is publicly available for research and analysis.\n",
    "\n",
    "The primary objective is to conduct Exploratory Data Analysis (EDA) on job market trends using the Pandas framework. The goal is to identify top job roles, hiring companies, salary distributions, experience levels, and the best locations for tech jobs.\n",
    "\n",
    "Key questions to be answered:\n",
    "  1. What are the top job titles in demand?\n",
    "  2. Which are the top hiring companies?\n",
    "  3. What is the salary distribution across different job roles?\n",
    "  4. What is the experience requirement for various positions?\n",
    "  5. Which locations have the highest job opportunities in tech?\n",
    "\n",
    "Visualizations will be used to identify patterns and trends that can be useful for job seekers and recruiters.\n"
   ]
  },
  {
   "cell_type": "markdown",
   "metadata": {},
   "source": [
    "## **Libraries Import**"
   ]
  },
  {
   "cell_type": "markdown",
   "metadata": {},
   "source": [
    "The necessary libraries for data analysis and visualization are imported."
   ]
  },
  {
   "cell_type": "code",
   "execution_count": 4,
   "metadata": {},
   "outputs": [
    {
     "name": "stdout",
     "output_type": "stream",
     "text": [
      "Requirement already satisfied: seaborn in c:\\users\\patil rupa\\anaconda3\\lib\\site-packages (0.9.0)\n",
      "Requirement already satisfied: numpy>=1.9.3 in c:\\users\\patil rupa\\anaconda3\\lib\\site-packages (from seaborn) (1.15.4)\n",
      "Requirement already satisfied: matplotlib>=1.4.3 in c:\\users\\patil rupa\\anaconda3\\lib\\site-packages (from seaborn) (3.0.2)\n",
      "Requirement already satisfied: pandas>=0.15.2 in c:\\users\\patil rupa\\anaconda3\\lib\\site-packages (from seaborn) (0.23.4)\n",
      "Requirement already satisfied: scipy>=0.14.0 in c:\\users\\patil rupa\\anaconda3\\lib\\site-packages (from seaborn) (1.1.0)\n",
      "Requirement already satisfied: cycler>=0.10 in c:\\users\\patil rupa\\anaconda3\\lib\\site-packages (from matplotlib>=1.4.3->seaborn) (0.10.0)\n",
      "Requirement already satisfied: kiwisolver>=1.0.1 in c:\\users\\patil rupa\\anaconda3\\lib\\site-packages (from matplotlib>=1.4.3->seaborn) (1.0.1)\n",
      "Requirement already satisfied: pyparsing!=2.0.4,!=2.1.2,!=2.1.6,>=2.0.1 in c:\\users\\patil rupa\\anaconda3\\lib\\site-packages (from matplotlib>=1.4.3->seaborn) (2.3.0)\n",
      "Requirement already satisfied: python-dateutil>=2.1 in c:\\users\\patil rupa\\anaconda3\\lib\\site-packages (from matplotlib>=1.4.3->seaborn) (2.7.5)\n",
      "Requirement already satisfied: pytz>=2011k in c:\\users\\patil rupa\\anaconda3\\lib\\site-packages (from pandas>=0.15.2->seaborn) (2018.7)\n",
      "Requirement already satisfied: six in c:\\users\\patil rupa\\anaconda3\\lib\\site-packages (from cycler>=0.10->matplotlib>=1.4.3->seaborn) (1.12.0)\n",
      "Requirement already satisfied: setuptools in c:\\users\\patil rupa\\anaconda3\\lib\\site-packages (from kiwisolver>=1.0.1->matplotlib>=1.4.3->seaborn) (40.6.3)\n"
     ]
    }
   ],
   "source": [
    "!pip install seaborn"
   ]
  },
  {
   "cell_type": "code",
   "execution_count": 4,
   "metadata": {},
   "outputs": [],
   "source": [
    "import pandas as pd\n",
    "import matplotlib.pyplot as plt\n",
    "import seaborn as sns\n",
    "import numpy as np\n",
    "\n",
    "%matplotlib inline\n",
    "plt.rcParams[\"figure.figsize\"] = (10, 6)\n",
    "\n",
    "import warnings\n",
    "warnings.filterwarnings('ignore')\n",
    "\n",
    "pd.set_option(\"display.precision\", 2)\n",
    "pd.options.display.float_format = \"{:.2f}\".format"
   ]
  },
  {
   "cell_type": "markdown",
   "metadata": {},
   "source": [
    "## **Dataset Exploration**  "
   ]
  },
  {
   "cell_type": "markdown",
   "metadata": {},
   "source": [
    "  **1. Reading the Dataset** "
   ]
  },
  {
   "cell_type": "markdown",
   "metadata": {},
   "source": [
    "We start by reading the dataset and displaying the first five rows:"
   ]
  },
  {
   "cell_type": "code",
   "execution_count": 5,
   "metadata": {},
   "outputs": [
    {
     "data": {
      "text/html": [
       "<div>\n",
       "<style scoped>\n",
       "    .dataframe tbody tr th:only-of-type {\n",
       "        vertical-align: middle;\n",
       "    }\n",
       "\n",
       "    .dataframe tbody tr th {\n",
       "        vertical-align: top;\n",
       "    }\n",
       "\n",
       "    .dataframe thead th {\n",
       "        text-align: right;\n",
       "    }\n",
       "</style>\n",
       "<table border=\"1\" class=\"dataframe\">\n",
       "  <thead>\n",
       "    <tr style=\"text-align: right;\">\n",
       "      <th></th>\n",
       "      <th>Employment type</th>\n",
       "      <th>Industries</th>\n",
       "      <th>Job function</th>\n",
       "      <th>Seniority level</th>\n",
       "      <th>company</th>\n",
       "      <th>company_id</th>\n",
       "      <th>context</th>\n",
       "      <th>date</th>\n",
       "      <th>description</th>\n",
       "      <th>education</th>\n",
       "      <th>location</th>\n",
       "      <th>months_experience</th>\n",
       "      <th>post_id</th>\n",
       "      <th>post_url</th>\n",
       "      <th>sal_high</th>\n",
       "      <th>sal_low</th>\n",
       "      <th>salary</th>\n",
       "      <th>title</th>\n",
       "    </tr>\n",
       "  </thead>\n",
       "  <tbody>\n",
       "    <tr>\n",
       "      <th>0</th>\n",
       "      <td>Full-time</td>\n",
       "      <td>Broadcast Media</td>\n",
       "      <td>Information Technology</td>\n",
       "      <td>Mid-Senior level</td>\n",
       "      <td>CyberCoders</td>\n",
       "      <td>21836.00</td>\n",
       "      <td>{\"@context\": \"http://schema.org\", \"@type\": \"Jo...</td>\n",
       "      <td>NaN</td>\n",
       "      <td>Job Title: Senior Data Engineer Location: Alex...</td>\n",
       "      <td>bachelor degree</td>\n",
       "      <td>Alexandria, VA</td>\n",
       "      <td>60.00</td>\n",
       "      <td>2632814552</td>\n",
       "      <td>https://www.linkedin.com/jobs/view/senior-data...</td>\n",
       "      <td>nan</td>\n",
       "      <td>nan</td>\n",
       "      <td>NaN</td>\n",
       "      <td>Senior Data Engineer</td>\n",
       "    </tr>\n",
       "    <tr>\n",
       "      <th>1</th>\n",
       "      <td>Full-time</td>\n",
       "      <td>Hospital &amp; Health Care, Medical Devices, and P...</td>\n",
       "      <td>Engineering and Information Technology</td>\n",
       "      <td>Not Applicable</td>\n",
       "      <td>Johnson &amp; Johnson</td>\n",
       "      <td>1207.00</td>\n",
       "      <td>{\"@context\": \"http://schema.org\", \"@type\": \"Jo...</td>\n",
       "      <td>NaN</td>\n",
       "      <td>Ethicon, part of Johnson &amp; Johnson Medical Dev...</td>\n",
       "      <td>bachelor degree</td>\n",
       "      <td>Santa Clara, CA</td>\n",
       "      <td>96.00</td>\n",
       "      <td>2632810866</td>\n",
       "      <td>https://www.linkedin.com/jobs/view/principal-f...</td>\n",
       "      <td>nan</td>\n",
       "      <td>nan</td>\n",
       "      <td>NaN</td>\n",
       "      <td>Principal Full Stack Software Engineer.</td>\n",
       "    </tr>\n",
       "    <tr>\n",
       "      <th>2</th>\n",
       "      <td>Full-time</td>\n",
       "      <td>Computer Hardware, Computer Software, and Info...</td>\n",
       "      <td>Engineering and Information Technology</td>\n",
       "      <td>Not Applicable</td>\n",
       "      <td>Microsoft</td>\n",
       "      <td>1035.00</td>\n",
       "      <td>{\"@context\": \"http://schema.org\", \"@type\": \"Jo...</td>\n",
       "      <td>NaN</td>\n",
       "      <td>Microsoft’s WCB health team is looking for a S...</td>\n",
       "      <td>bachelor degree</td>\n",
       "      <td>Washington, DC</td>\n",
       "      <td>84.00</td>\n",
       "      <td>2632812746</td>\n",
       "      <td>https://www.linkedin.com/jobs/view/senior-soft...</td>\n",
       "      <td>189000.00</td>\n",
       "      <td>120000.00</td>\n",
       "      <td>$120,000.00/yr - $189,000.00/yr</td>\n",
       "      <td>Senior Software Engineer</td>\n",
       "    </tr>\n",
       "    <tr>\n",
       "      <th>3</th>\n",
       "      <td>Full-time</td>\n",
       "      <td>Computer Hardware, Computer Software, and Info...</td>\n",
       "      <td>Engineering and Information Technology</td>\n",
       "      <td>Not Applicable</td>\n",
       "      <td>Microsoft</td>\n",
       "      <td>1035.00</td>\n",
       "      <td>{\"@context\": \"http://schema.org\", \"@type\": \"Jo...</td>\n",
       "      <td>NaN</td>\n",
       "      <td>Microsoft’s WCB health team is looking for a S...</td>\n",
       "      <td>bachelor degree</td>\n",
       "      <td>Reston, VA</td>\n",
       "      <td>84.00</td>\n",
       "      <td>2632817427</td>\n",
       "      <td>https://www.linkedin.com/jobs/view/senior-soft...</td>\n",
       "      <td>189000.00</td>\n",
       "      <td>120000.00</td>\n",
       "      <td>$120,000.00/yr - $189,000.00/yr</td>\n",
       "      <td>Senior Software Engineer</td>\n",
       "    </tr>\n",
       "    <tr>\n",
       "      <th>4</th>\n",
       "      <td>Full-time</td>\n",
       "      <td>Computer Hardware, Computer Software, and Info...</td>\n",
       "      <td>Engineering and Information Technology</td>\n",
       "      <td>Not Applicable</td>\n",
       "      <td>Microsoft</td>\n",
       "      <td>1035.00</td>\n",
       "      <td>{\"@context\": \"http://schema.org\", \"@type\": \"Jo...</td>\n",
       "      <td>NaN</td>\n",
       "      <td>Microsoft’s WCB health team is looking for a S...</td>\n",
       "      <td>bachelor degree</td>\n",
       "      <td>Irving, TX</td>\n",
       "      <td>84.00</td>\n",
       "      <td>2632817426</td>\n",
       "      <td>https://www.linkedin.com/jobs/view/senior-soft...</td>\n",
       "      <td>175000.00</td>\n",
       "      <td>108000.00</td>\n",
       "      <td>$108,000.00/yr - $175,000.00/yr</td>\n",
       "      <td>Senior Software Engineer</td>\n",
       "    </tr>\n",
       "  </tbody>\n",
       "</table>\n",
       "</div>"
      ],
      "text/plain": [
       "  Employment type                                         Industries  \\\n",
       "0       Full-time                                    Broadcast Media   \n",
       "1       Full-time  Hospital & Health Care, Medical Devices, and P...   \n",
       "2       Full-time  Computer Hardware, Computer Software, and Info...   \n",
       "3       Full-time  Computer Hardware, Computer Software, and Info...   \n",
       "4       Full-time  Computer Hardware, Computer Software, and Info...   \n",
       "\n",
       "                             Job function   Seniority level  \\\n",
       "0                  Information Technology  Mid-Senior level   \n",
       "1  Engineering and Information Technology    Not Applicable   \n",
       "2  Engineering and Information Technology    Not Applicable   \n",
       "3  Engineering and Information Technology    Not Applicable   \n",
       "4  Engineering and Information Technology    Not Applicable   \n",
       "\n",
       "             company  company_id  \\\n",
       "0        CyberCoders    21836.00   \n",
       "1  Johnson & Johnson     1207.00   \n",
       "2          Microsoft     1035.00   \n",
       "3          Microsoft     1035.00   \n",
       "4          Microsoft     1035.00   \n",
       "\n",
       "                                             context date  \\\n",
       "0  {\"@context\": \"http://schema.org\", \"@type\": \"Jo...  NaN   \n",
       "1  {\"@context\": \"http://schema.org\", \"@type\": \"Jo...  NaN   \n",
       "2  {\"@context\": \"http://schema.org\", \"@type\": \"Jo...  NaN   \n",
       "3  {\"@context\": \"http://schema.org\", \"@type\": \"Jo...  NaN   \n",
       "4  {\"@context\": \"http://schema.org\", \"@type\": \"Jo...  NaN   \n",
       "\n",
       "                                         description        education  \\\n",
       "0  Job Title: Senior Data Engineer Location: Alex...  bachelor degree   \n",
       "1  Ethicon, part of Johnson & Johnson Medical Dev...  bachelor degree   \n",
       "2  Microsoft’s WCB health team is looking for a S...  bachelor degree   \n",
       "3  Microsoft’s WCB health team is looking for a S...  bachelor degree   \n",
       "4  Microsoft’s WCB health team is looking for a S...  bachelor degree   \n",
       "\n",
       "          location  months_experience     post_id  \\\n",
       "0   Alexandria, VA              60.00  2632814552   \n",
       "1  Santa Clara, CA              96.00  2632810866   \n",
       "2   Washington, DC              84.00  2632812746   \n",
       "3       Reston, VA              84.00  2632817427   \n",
       "4       Irving, TX              84.00  2632817426   \n",
       "\n",
       "                                            post_url  sal_high   sal_low  \\\n",
       "0  https://www.linkedin.com/jobs/view/senior-data...       nan       nan   \n",
       "1  https://www.linkedin.com/jobs/view/principal-f...       nan       nan   \n",
       "2  https://www.linkedin.com/jobs/view/senior-soft... 189000.00 120000.00   \n",
       "3  https://www.linkedin.com/jobs/view/senior-soft... 189000.00 120000.00   \n",
       "4  https://www.linkedin.com/jobs/view/senior-soft... 175000.00 108000.00   \n",
       "\n",
       "                            salary                                    title  \n",
       "0                              NaN                     Senior Data Engineer  \n",
       "1                              NaN  Principal Full Stack Software Engineer.  \n",
       "2  $120,000.00/yr - $189,000.00/yr                 Senior Software Engineer  \n",
       "3  $120,000.00/yr - $189,000.00/yr                 Senior Software Engineer  \n",
       "4  $108,000.00/yr - $175,000.00/yr                 Senior Software Engineer  "
      ]
     },
     "execution_count": 5,
     "metadata": {},
     "output_type": "execute_result"
    }
   ],
   "source": [
    "import pandas as pd\n",
    "\n",
    "df = pd.read_csv('jobs.csv')\n",
    "df.head()"
   ]
  },
  {
   "cell_type": "markdown",
   "metadata": {},
   "source": [
    "**2. Dataset Overview**"
   ]
  },
  {
   "cell_type": "markdown",
   "metadata": {},
   "source": [
    "Shape of the dataset:"
   ]
  },
  {
   "cell_type": "code",
   "execution_count": 6,
   "metadata": {},
   "outputs": [
    {
     "data": {
      "text/plain": [
       "(8261, 18)"
      ]
     },
     "execution_count": 6,
     "metadata": {},
     "output_type": "execute_result"
    }
   ],
   "source": [
    "df.shape"
   ]
  },
  {
   "cell_type": "markdown",
   "metadata": {},
   "source": [
    "Feature Names and Types:"
   ]
  },
  {
   "cell_type": "code",
   "execution_count": 7,
   "metadata": {},
   "outputs": [
    {
     "name": "stdout",
     "output_type": "stream",
     "text": [
      "<class 'pandas.core.frame.DataFrame'>\n",
      "RangeIndex: 8261 entries, 0 to 8260\n",
      "Data columns (total 18 columns):\n",
      "Employment type      7768 non-null object\n",
      "Industries           7172 non-null object\n",
      "Job function         7172 non-null object\n",
      "Seniority level      7172 non-null object\n",
      "company              8261 non-null object\n",
      "company_id           7780 non-null float64\n",
      "context              7685 non-null object\n",
      "date                 7626 non-null object\n",
      "description          7780 non-null object\n",
      "education            7527 non-null object\n",
      "location             8261 non-null object\n",
      "months_experience    5090 non-null float64\n",
      "post_id              8261 non-null int64\n",
      "post_url             8261 non-null object\n",
      "sal_high             2135 non-null float64\n",
      "sal_low              2135 non-null float64\n",
      "salary               2145 non-null object\n",
      "title                8261 non-null object\n",
      "dtypes: float64(4), int64(1), object(13)\n",
      "memory usage: 1.1+ MB\n"
     ]
    }
   ],
   "source": [
    "df.info()"
   ]
  },
  {
   "cell_type": "markdown",
   "metadata": {},
   "source": [
    "The dataset consists of:\n",
    "\n",
    "- 2 integer features (company_id, post_id)\n",
    "- 2 floating-point features (sal_low, sal_high)\n",
    "- 1 numeric feature (months_experience)\n",
    "- No missing values in company_id and post_id, but missing values in months_experience, sal_low, and sal_high."
   ]
  },
  {
   "cell_type": "markdown",
   "metadata": {},
   "source": [
    "**3. Feature Descriptions**"
   ]
  },
  {
   "cell_type": "markdown",
   "metadata": {},
   "source": [
    "- **company**: Name of the company *(categorical)*  \n",
    "- **title**: Job title *(categorical)*  \n",
    "- **location**: Job location *(categorical)*  \n",
    "- **type**: Job type *(categorical)*  \n",
    "- **level**: Seniority level *(categorical)*  \n",
    "- **sal_low**: Lower bound of salary *(numeric)*  \n",
    "- **sal_high**: Upper bound of salary *(numeric)*  \n",
    "- **months_experience**: Required months of experience *(numeric)*  \n"
   ]
  },
  {
   "cell_type": "markdown",
   "metadata": {},
   "source": [
    "**4. Statistical Summary**"
   ]
  },
  {
   "cell_type": "markdown",
   "metadata": {},
   "source": [
    "Numerical Features:"
   ]
  },
  {
   "cell_type": "code",
   "execution_count": 8,
   "metadata": {},
   "outputs": [
    {
     "data": {
      "text/html": [
       "<div>\n",
       "<style scoped>\n",
       "    .dataframe tbody tr th:only-of-type {\n",
       "        vertical-align: middle;\n",
       "    }\n",
       "\n",
       "    .dataframe tbody tr th {\n",
       "        vertical-align: top;\n",
       "    }\n",
       "\n",
       "    .dataframe thead th {\n",
       "        text-align: right;\n",
       "    }\n",
       "</style>\n",
       "<table border=\"1\" class=\"dataframe\">\n",
       "  <thead>\n",
       "    <tr style=\"text-align: right;\">\n",
       "      <th></th>\n",
       "      <th>company_id</th>\n",
       "      <th>months_experience</th>\n",
       "      <th>post_id</th>\n",
       "      <th>sal_high</th>\n",
       "      <th>sal_low</th>\n",
       "    </tr>\n",
       "  </thead>\n",
       "  <tbody>\n",
       "    <tr>\n",
       "      <th>count</th>\n",
       "      <td>7780.00</td>\n",
       "      <td>5090.00</td>\n",
       "      <td>8261.00</td>\n",
       "      <td>2135.00</td>\n",
       "      <td>2135.00</td>\n",
       "    </tr>\n",
       "    <tr>\n",
       "      <th>mean</th>\n",
       "      <td>6680768.79</td>\n",
       "      <td>50.46</td>\n",
       "      <td>2679644434.96</td>\n",
       "      <td>150923.40</td>\n",
       "      <td>94313.94</td>\n",
       "    </tr>\n",
       "    <tr>\n",
       "      <th>std</th>\n",
       "      <td>15208428.38</td>\n",
       "      <td>28.44</td>\n",
       "      <td>68765226.57</td>\n",
       "      <td>44080.92</td>\n",
       "      <td>27242.37</td>\n",
       "    </tr>\n",
       "    <tr>\n",
       "      <th>min</th>\n",
       "      <td>1000.00</td>\n",
       "      <td>3.00</td>\n",
       "      <td>103873348.00</td>\n",
       "      <td>100.00</td>\n",
       "      <td>120.00</td>\n",
       "    </tr>\n",
       "    <tr>\n",
       "      <th>25%</th>\n",
       "      <td>4787.00</td>\n",
       "      <td>36.00</td>\n",
       "      <td>2663260001.00</td>\n",
       "      <td>119000.00</td>\n",
       "      <td>75450.00</td>\n",
       "    </tr>\n",
       "    <tr>\n",
       "      <th>50%</th>\n",
       "      <td>162479.00</td>\n",
       "      <td>48.00</td>\n",
       "      <td>2682321422.00</td>\n",
       "      <td>151000.00</td>\n",
       "      <td>91300.00</td>\n",
       "    </tr>\n",
       "    <tr>\n",
       "      <th>75%</th>\n",
       "      <td>3334793.00</td>\n",
       "      <td>60.00</td>\n",
       "      <td>2693585348.00</td>\n",
       "      <td>180000.00</td>\n",
       "      <td>113000.00</td>\n",
       "    </tr>\n",
       "    <tr>\n",
       "      <th>max</th>\n",
       "      <td>80114151.00</td>\n",
       "      <td>180.00</td>\n",
       "      <td>2764037008.00</td>\n",
       "      <td>416000.00</td>\n",
       "      <td>312000.00</td>\n",
       "    </tr>\n",
       "  </tbody>\n",
       "</table>\n",
       "</div>"
      ],
      "text/plain": [
       "       company_id  months_experience       post_id  sal_high   sal_low\n",
       "count     7780.00            5090.00       8261.00   2135.00   2135.00\n",
       "mean   6680768.79              50.46 2679644434.96 150923.40  94313.94\n",
       "std   15208428.38              28.44   68765226.57  44080.92  27242.37\n",
       "min       1000.00               3.00  103873348.00    100.00    120.00\n",
       "25%       4787.00              36.00 2663260001.00 119000.00  75450.00\n",
       "50%     162479.00              48.00 2682321422.00 151000.00  91300.00\n",
       "75%    3334793.00              60.00 2693585348.00 180000.00 113000.00\n",
       "max   80114151.00             180.00 2764037008.00 416000.00 312000.00"
      ]
     },
     "execution_count": 8,
     "metadata": {},
     "output_type": "execute_result"
    }
   ],
   "source": [
    "df.describe()"
   ]
  },
  {
   "cell_type": "markdown",
   "metadata": {},
   "source": [
    "Key Observations\n",
    "\n",
    "- **sal_high** values range from **100 to 416,000**.  \n",
    "- **months_experience** varies from **3 to 180 months (15 years).**  \n"
   ]
  },
  {
   "cell_type": "markdown",
   "metadata": {},
   "source": [
    "Categorical Features:"
   ]
  },
  {
   "cell_type": "code",
   "execution_count": 9,
   "metadata": {},
   "outputs": [
    {
     "data": {
      "text/html": [
       "<div>\n",
       "<style scoped>\n",
       "    .dataframe tbody tr th:only-of-type {\n",
       "        vertical-align: middle;\n",
       "    }\n",
       "\n",
       "    .dataframe tbody tr th {\n",
       "        vertical-align: top;\n",
       "    }\n",
       "\n",
       "    .dataframe thead th {\n",
       "        text-align: right;\n",
       "    }\n",
       "</style>\n",
       "<table border=\"1\" class=\"dataframe\">\n",
       "  <thead>\n",
       "    <tr style=\"text-align: right;\">\n",
       "      <th></th>\n",
       "      <th>Employment type</th>\n",
       "      <th>Industries</th>\n",
       "      <th>Job function</th>\n",
       "      <th>Seniority level</th>\n",
       "      <th>company</th>\n",
       "      <th>context</th>\n",
       "      <th>date</th>\n",
       "      <th>description</th>\n",
       "      <th>education</th>\n",
       "      <th>location</th>\n",
       "      <th>post_url</th>\n",
       "      <th>salary</th>\n",
       "      <th>title</th>\n",
       "    </tr>\n",
       "  </thead>\n",
       "  <tbody>\n",
       "    <tr>\n",
       "      <th>count</th>\n",
       "      <td>7768</td>\n",
       "      <td>7172</td>\n",
       "      <td>7172</td>\n",
       "      <td>7172</td>\n",
       "      <td>8261</td>\n",
       "      <td>7685</td>\n",
       "      <td>7626</td>\n",
       "      <td>7780</td>\n",
       "      <td>7527</td>\n",
       "      <td>8261</td>\n",
       "      <td>8261</td>\n",
       "      <td>2145</td>\n",
       "      <td>8261</td>\n",
       "    </tr>\n",
       "    <tr>\n",
       "      <th>unique</th>\n",
       "      <td>7</td>\n",
       "      <td>694</td>\n",
       "      <td>195</td>\n",
       "      <td>7</td>\n",
       "      <td>2634</td>\n",
       "      <td>7685</td>\n",
       "      <td>7626</td>\n",
       "      <td>5568</td>\n",
       "      <td>3</td>\n",
       "      <td>919</td>\n",
       "      <td>8173</td>\n",
       "      <td>1336</td>\n",
       "      <td>2557</td>\n",
       "    </tr>\n",
       "    <tr>\n",
       "      <th>top</th>\n",
       "      <td>Full-time</td>\n",
       "      <td>Information Technology and Services, Computer ...</td>\n",
       "      <td>Engineering and Information Technology</td>\n",
       "      <td>Not Applicable</td>\n",
       "      <td>Apple</td>\n",
       "      <td>{\"@context\": \"http://schema.org\", \"@type\": \"Jo...</td>\n",
       "      <td>2021-08-30 17:33:16.199996</td>\n",
       "      <td>The volunteer opportunity below is a request f...</td>\n",
       "      <td>bachelor degree</td>\n",
       "      <td>United States</td>\n",
       "      <td>https://www.linkedin.com/jobs/view/software-en...</td>\n",
       "      <td>$118,000.00/yr - $200,000.00/yr</td>\n",
       "      <td>Data Scientist</td>\n",
       "    </tr>\n",
       "    <tr>\n",
       "      <th>freq</th>\n",
       "      <td>7186</td>\n",
       "      <td>695</td>\n",
       "      <td>4694</td>\n",
       "      <td>2310</td>\n",
       "      <td>645</td>\n",
       "      <td>1</td>\n",
       "      <td>1</td>\n",
       "      <td>39</td>\n",
       "      <td>7458</td>\n",
       "      <td>527</td>\n",
       "      <td>2</td>\n",
       "      <td>65</td>\n",
       "      <td>769</td>\n",
       "    </tr>\n",
       "  </tbody>\n",
       "</table>\n",
       "</div>"
      ],
      "text/plain": [
       "       Employment type                                         Industries  \\\n",
       "count             7768                                               7172   \n",
       "unique               7                                                694   \n",
       "top          Full-time  Information Technology and Services, Computer ...   \n",
       "freq              7186                                                695   \n",
       "\n",
       "                                  Job function Seniority level company  \\\n",
       "count                                     7172            7172    8261   \n",
       "unique                                     195               7    2634   \n",
       "top     Engineering and Information Technology  Not Applicable   Apple   \n",
       "freq                                      4694            2310     645   \n",
       "\n",
       "                                                  context  \\\n",
       "count                                                7685   \n",
       "unique                                               7685   \n",
       "top     {\"@context\": \"http://schema.org\", \"@type\": \"Jo...   \n",
       "freq                                                    1   \n",
       "\n",
       "                              date  \\\n",
       "count                         7626   \n",
       "unique                        7626   \n",
       "top     2021-08-30 17:33:16.199996   \n",
       "freq                             1   \n",
       "\n",
       "                                              description        education  \\\n",
       "count                                                7780             7527   \n",
       "unique                                               5568                3   \n",
       "top     The volunteer opportunity below is a request f...  bachelor degree   \n",
       "freq                                                   39             7458   \n",
       "\n",
       "             location                                           post_url  \\\n",
       "count            8261                                               8261   \n",
       "unique            919                                               8173   \n",
       "top     United States  https://www.linkedin.com/jobs/view/software-en...   \n",
       "freq              527                                                  2   \n",
       "\n",
       "                                 salary           title  \n",
       "count                              2145            8261  \n",
       "unique                             1336            2557  \n",
       "top     $118,000.00/yr - $200,000.00/yr  Data Scientist  \n",
       "freq                                 65             769  "
      ]
     },
     "execution_count": 9,
     "metadata": {},
     "output_type": "execute_result"
    }
   ],
   "source": [
    "df.describe(include=['object'])"
   ]
  },
  {
   "cell_type": "markdown",
   "metadata": {},
   "source": [
    "**5. Sorting Data**"
   ]
  },
  {
   "cell_type": "markdown",
   "metadata": {},
   "source": [
    "Sorting by months_exp (descending):"
   ]
  },
  {
   "cell_type": "code",
   "execution_count": 10,
   "metadata": {},
   "outputs": [
    {
     "data": {
      "text/html": [
       "<div>\n",
       "<style scoped>\n",
       "    .dataframe tbody tr th:only-of-type {\n",
       "        vertical-align: middle;\n",
       "    }\n",
       "\n",
       "    .dataframe tbody tr th {\n",
       "        vertical-align: top;\n",
       "    }\n",
       "\n",
       "    .dataframe thead th {\n",
       "        text-align: right;\n",
       "    }\n",
       "</style>\n",
       "<table border=\"1\" class=\"dataframe\">\n",
       "  <thead>\n",
       "    <tr style=\"text-align: right;\">\n",
       "      <th></th>\n",
       "      <th>Employment type</th>\n",
       "      <th>Industries</th>\n",
       "      <th>Job function</th>\n",
       "      <th>Seniority level</th>\n",
       "      <th>company</th>\n",
       "      <th>company_id</th>\n",
       "      <th>context</th>\n",
       "      <th>date</th>\n",
       "      <th>description</th>\n",
       "      <th>education</th>\n",
       "      <th>location</th>\n",
       "      <th>months_experience</th>\n",
       "      <th>post_id</th>\n",
       "      <th>post_url</th>\n",
       "      <th>sal_high</th>\n",
       "      <th>sal_low</th>\n",
       "      <th>salary</th>\n",
       "      <th>title</th>\n",
       "    </tr>\n",
       "  </thead>\n",
       "  <tbody>\n",
       "    <tr>\n",
       "      <th>2988</th>\n",
       "      <td>Full-time</td>\n",
       "      <td>Information Technology and Services, Computer ...</td>\n",
       "      <td>Engineering and Information Technology</td>\n",
       "      <td>Associate</td>\n",
       "      <td>Greenlots</td>\n",
       "      <td>1180889.00</td>\n",
       "      <td>{\"@context\": \"http://schema.org\", \"@type\": \"Jo...</td>\n",
       "      <td>2021-08-06 17:55:18.797354</td>\n",
       "      <td>Los Angeles, CA Greenlots is unlocking the pos...</td>\n",
       "      <td>bachelor degree</td>\n",
       "      <td>Los Angeles, CA</td>\n",
       "      <td>180.00</td>\n",
       "      <td>2668319413</td>\n",
       "      <td>https://www.linkedin.com/jobs/view/lead-site-r...</td>\n",
       "      <td>nan</td>\n",
       "      <td>nan</td>\n",
       "      <td>NaN</td>\n",
       "      <td>Lead Site Reliability Engineer</td>\n",
       "    </tr>\n",
       "    <tr>\n",
       "      <th>2620</th>\n",
       "      <td>Full-time</td>\n",
       "      <td>Computer Hardware</td>\n",
       "      <td>Information Technology</td>\n",
       "      <td>Not Applicable</td>\n",
       "      <td>IBM</td>\n",
       "      <td>1009.00</td>\n",
       "      <td>{\"@context\": \"http://schema.org\", \"@type\": \"Jo...</td>\n",
       "      <td>2021-08-05 11:57:03.911977</td>\n",
       "      <td>Introduction As a Data Scientist at IBM, you w...</td>\n",
       "      <td>bachelor degree</td>\n",
       "      <td>Austin, TX</td>\n",
       "      <td>180.00</td>\n",
       "      <td>2660074610</td>\n",
       "      <td>https://www.linkedin.com/jobs/view/data-scient...</td>\n",
       "      <td>nan</td>\n",
       "      <td>nan</td>\n",
       "      <td>NaN</td>\n",
       "      <td>Data Scientist</td>\n",
       "    </tr>\n",
       "    <tr>\n",
       "      <th>4865</th>\n",
       "      <td>Full-time</td>\n",
       "      <td>Information Technology and Services</td>\n",
       "      <td>Engineering and Information Technology</td>\n",
       "      <td>Mid-Senior level</td>\n",
       "      <td>Nagarro</td>\n",
       "      <td>11902.00</td>\n",
       "      <td>{\"@context\": \"http://schema.org\", \"@type\": \"Jo...</td>\n",
       "      <td>2021-08-19 18:13:39.287404</td>\n",
       "      <td>Established in 1996, Nagarro began as a dream ...</td>\n",
       "      <td>bachelor degree</td>\n",
       "      <td>New York, United States</td>\n",
       "      <td>180.00</td>\n",
       "      <td>2688771685</td>\n",
       "      <td>https://www.linkedin.com/jobs/view/site-reliab...</td>\n",
       "      <td>nan</td>\n",
       "      <td>nan</td>\n",
       "      <td>NaN</td>\n",
       "      <td>Site Reliability Engineer</td>\n",
       "    </tr>\n",
       "    <tr>\n",
       "      <th>6341</th>\n",
       "      <td>Full-time</td>\n",
       "      <td>Computer Hardware</td>\n",
       "      <td>Information Technology</td>\n",
       "      <td>Not Applicable</td>\n",
       "      <td>IBM</td>\n",
       "      <td>1009.00</td>\n",
       "      <td>{\"@context\": \"http://schema.org\", \"@type\": \"Jo...</td>\n",
       "      <td>2021-08-26 23:02:24.315357</td>\n",
       "      <td>Introduction As a Data Scientist at IBM, you w...</td>\n",
       "      <td>bachelor degree</td>\n",
       "      <td>Austin, TX</td>\n",
       "      <td>180.00</td>\n",
       "      <td>2693554961</td>\n",
       "      <td>https://www.linkedin.com/jobs/view/data-scient...</td>\n",
       "      <td>nan</td>\n",
       "      <td>nan</td>\n",
       "      <td>NaN</td>\n",
       "      <td>Data Scientist</td>\n",
       "    </tr>\n",
       "    <tr>\n",
       "      <th>2419</th>\n",
       "      <td>Contract</td>\n",
       "      <td>Information Technology and Services, Computer ...</td>\n",
       "      <td>Engineering and Information Technology</td>\n",
       "      <td>Entry level</td>\n",
       "      <td>Dice</td>\n",
       "      <td>6849.00</td>\n",
       "      <td>{\"@context\": \"http://schema.org\", \"@type\": \"Jo...</td>\n",
       "      <td>2021-08-02 21:41:49.135564</td>\n",
       "      <td>Dice is the leading career destination for tec...</td>\n",
       "      <td>bachelor degree</td>\n",
       "      <td>Denver, CO</td>\n",
       "      <td>180.00</td>\n",
       "      <td>2671787173</td>\n",
       "      <td>https://www.linkedin.com/jobs/view/site-reliab...</td>\n",
       "      <td>nan</td>\n",
       "      <td>nan</td>\n",
       "      <td>NaN</td>\n",
       "      <td>Site reliability engineer</td>\n",
       "    </tr>\n",
       "  </tbody>\n",
       "</table>\n",
       "</div>"
      ],
      "text/plain": [
       "     Employment type                                         Industries  \\\n",
       "2988       Full-time  Information Technology and Services, Computer ...   \n",
       "2620       Full-time                                  Computer Hardware   \n",
       "4865       Full-time                Information Technology and Services   \n",
       "6341       Full-time                                  Computer Hardware   \n",
       "2419        Contract  Information Technology and Services, Computer ...   \n",
       "\n",
       "                                Job function   Seniority level    company  \\\n",
       "2988  Engineering and Information Technology         Associate  Greenlots   \n",
       "2620                  Information Technology    Not Applicable        IBM   \n",
       "4865  Engineering and Information Technology  Mid-Senior level    Nagarro   \n",
       "6341                  Information Technology    Not Applicable        IBM   \n",
       "2419  Engineering and Information Technology       Entry level       Dice   \n",
       "\n",
       "      company_id                                            context  \\\n",
       "2988  1180889.00  {\"@context\": \"http://schema.org\", \"@type\": \"Jo...   \n",
       "2620     1009.00  {\"@context\": \"http://schema.org\", \"@type\": \"Jo...   \n",
       "4865    11902.00  {\"@context\": \"http://schema.org\", \"@type\": \"Jo...   \n",
       "6341     1009.00  {\"@context\": \"http://schema.org\", \"@type\": \"Jo...   \n",
       "2419     6849.00  {\"@context\": \"http://schema.org\", \"@type\": \"Jo...   \n",
       "\n",
       "                            date  \\\n",
       "2988  2021-08-06 17:55:18.797354   \n",
       "2620  2021-08-05 11:57:03.911977   \n",
       "4865  2021-08-19 18:13:39.287404   \n",
       "6341  2021-08-26 23:02:24.315357   \n",
       "2419  2021-08-02 21:41:49.135564   \n",
       "\n",
       "                                            description        education  \\\n",
       "2988  Los Angeles, CA Greenlots is unlocking the pos...  bachelor degree   \n",
       "2620  Introduction As a Data Scientist at IBM, you w...  bachelor degree   \n",
       "4865  Established in 1996, Nagarro began as a dream ...  bachelor degree   \n",
       "6341  Introduction As a Data Scientist at IBM, you w...  bachelor degree   \n",
       "2419  Dice is the leading career destination for tec...  bachelor degree   \n",
       "\n",
       "                     location  months_experience     post_id  \\\n",
       "2988          Los Angeles, CA             180.00  2668319413   \n",
       "2620               Austin, TX             180.00  2660074610   \n",
       "4865  New York, United States             180.00  2688771685   \n",
       "6341               Austin, TX             180.00  2693554961   \n",
       "2419               Denver, CO             180.00  2671787173   \n",
       "\n",
       "                                               post_url  sal_high  sal_low  \\\n",
       "2988  https://www.linkedin.com/jobs/view/lead-site-r...       nan      nan   \n",
       "2620  https://www.linkedin.com/jobs/view/data-scient...       nan      nan   \n",
       "4865  https://www.linkedin.com/jobs/view/site-reliab...       nan      nan   \n",
       "6341  https://www.linkedin.com/jobs/view/data-scient...       nan      nan   \n",
       "2419  https://www.linkedin.com/jobs/view/site-reliab...       nan      nan   \n",
       "\n",
       "     salary                           title  \n",
       "2988    NaN  Lead Site Reliability Engineer  \n",
       "2620    NaN                  Data Scientist  \n",
       "4865    NaN       Site Reliability Engineer  \n",
       "6341    NaN                  Data Scientist  \n",
       "2419    NaN       Site reliability engineer  "
      ]
     },
     "execution_count": 10,
     "metadata": {},
     "output_type": "execute_result"
    }
   ],
   "source": [
    "df.sort_values(by='months_experience', ascending=False).head()"
   ]
  },
  {
   "cell_type": "markdown",
   "metadata": {},
   "source": [
    "- Highest experience required: **180 months (15 years)**"
   ]
  },
  {
   "cell_type": "markdown",
   "metadata": {},
   "source": [
    "Sorting by salary (sal_high) (descending):"
   ]
  },
  {
   "cell_type": "code",
   "execution_count": 11,
   "metadata": {},
   "outputs": [
    {
     "data": {
      "text/html": [
       "<div>\n",
       "<style scoped>\n",
       "    .dataframe tbody tr th:only-of-type {\n",
       "        vertical-align: middle;\n",
       "    }\n",
       "\n",
       "    .dataframe tbody tr th {\n",
       "        vertical-align: top;\n",
       "    }\n",
       "\n",
       "    .dataframe thead th {\n",
       "        text-align: right;\n",
       "    }\n",
       "</style>\n",
       "<table border=\"1\" class=\"dataframe\">\n",
       "  <thead>\n",
       "    <tr style=\"text-align: right;\">\n",
       "      <th></th>\n",
       "      <th>Employment type</th>\n",
       "      <th>Industries</th>\n",
       "      <th>Job function</th>\n",
       "      <th>Seniority level</th>\n",
       "      <th>company</th>\n",
       "      <th>company_id</th>\n",
       "      <th>context</th>\n",
       "      <th>date</th>\n",
       "      <th>description</th>\n",
       "      <th>education</th>\n",
       "      <th>location</th>\n",
       "      <th>months_experience</th>\n",
       "      <th>post_id</th>\n",
       "      <th>post_url</th>\n",
       "      <th>sal_high</th>\n",
       "      <th>sal_low</th>\n",
       "      <th>salary</th>\n",
       "      <th>title</th>\n",
       "    </tr>\n",
       "  </thead>\n",
       "  <tbody>\n",
       "    <tr>\n",
       "      <th>6503</th>\n",
       "      <td>Full-time</td>\n",
       "      <td>Oil &amp; Energy</td>\n",
       "      <td>Information Technology</td>\n",
       "      <td>Associate</td>\n",
       "      <td>AllTech Systems, Inc.</td>\n",
       "      <td>1507659.00</td>\n",
       "      <td>{\"@context\": \"http://schema.org\", \"@type\": \"Jo...</td>\n",
       "      <td>2021-08-30 17:49:18.871675</td>\n",
       "      <td>Description The Digital Twin &amp; Rich Media team...</td>\n",
       "      <td>bachelor degree</td>\n",
       "      <td>Greater Houston</td>\n",
       "      <td>nan</td>\n",
       "      <td>2702731747</td>\n",
       "      <td>https://www.linkedin.com/jobs/view/machine-lea...</td>\n",
       "      <td>416000.00</td>\n",
       "      <td>312000.00</td>\n",
       "      <td>$150.00/hr - $200.00/hr</td>\n",
       "      <td>Machine Learning Engineer V</td>\n",
       "    </tr>\n",
       "    <tr>\n",
       "      <th>2175</th>\n",
       "      <td>Full-time</td>\n",
       "      <td>Information Technology and Services</td>\n",
       "      <td>Engineering and Information Technology</td>\n",
       "      <td>Mid-Senior level</td>\n",
       "      <td>Quantitative Systems</td>\n",
       "      <td>9848517.00</td>\n",
       "      <td>{\"@context\": \"http://schema.org\", \"@type\": \"Jo...</td>\n",
       "      <td>2021-08-02 20:51:22.889836</td>\n",
       "      <td>We are a global leader in management consultin...</td>\n",
       "      <td>bachelor degree</td>\n",
       "      <td>New York, NY</td>\n",
       "      <td>nan</td>\n",
       "      <td>2635811289</td>\n",
       "      <td>https://www.linkedin.com/jobs/view/digital-pri...</td>\n",
       "      <td>350000.00</td>\n",
       "      <td>200000.00</td>\n",
       "      <td>$200,000.00/yr - $350,000.00/yr</td>\n",
       "      <td>Digital Principal Data Scientist</td>\n",
       "    </tr>\n",
       "    <tr>\n",
       "      <th>2642</th>\n",
       "      <td>Full-time</td>\n",
       "      <td>Investment Management and Financial Services</td>\n",
       "      <td>Finance and Research</td>\n",
       "      <td>Not Applicable</td>\n",
       "      <td>Sartre Group</td>\n",
       "      <td>3075240.00</td>\n",
       "      <td>{\"@context\": \"http://schema.org\", \"@type\": \"Jo...</td>\n",
       "      <td>2021-08-05 11:59:27.847717</td>\n",
       "      <td>We’re partnering with one of the best performi...</td>\n",
       "      <td>bachelor degree</td>\n",
       "      <td>New York, United States</td>\n",
       "      <td>nan</td>\n",
       "      <td>2669466843</td>\n",
       "      <td>https://www.linkedin.com/jobs/view/investment-...</td>\n",
       "      <td>300000.00</td>\n",
       "      <td>150000.00</td>\n",
       "      <td>$150,000.00/yr - $300,000.00/yr</td>\n",
       "      <td>Investment Data Scientist</td>\n",
       "    </tr>\n",
       "    <tr>\n",
       "      <th>8019</th>\n",
       "      <td>Full-time</td>\n",
       "      <td>NaN</td>\n",
       "      <td>NaN</td>\n",
       "      <td>NaN</td>\n",
       "      <td>NewslyMeApp</td>\n",
       "      <td>42931852.00</td>\n",
       "      <td>{\"@context\": \"http://schema.org\", \"@type\": \"Jo...</td>\n",
       "      <td>2021-10-17 23:13:58.887407</td>\n",
       "      <td>Before you apply for the position, we ask you ...</td>\n",
       "      <td>bachelor degree</td>\n",
       "      <td>New York City Metropolitan Area</td>\n",
       "      <td>12.00</td>\n",
       "      <td>2754065876</td>\n",
       "      <td>https://www.linkedin.com/jobs/view/data-scient...</td>\n",
       "      <td>300000.00</td>\n",
       "      <td>80000.00</td>\n",
       "      <td>$80,000.00/yr - $300,000.00/yr</td>\n",
       "      <td>Data Scientist</td>\n",
       "    </tr>\n",
       "    <tr>\n",
       "      <th>2717</th>\n",
       "      <td>Full-time</td>\n",
       "      <td>Marketing and Advertising, Computer Software, ...</td>\n",
       "      <td>Engineering and Information Technology</td>\n",
       "      <td>Associate</td>\n",
       "      <td>GoFundMe</td>\n",
       "      <td>1271240.00</td>\n",
       "      <td>{\"@context\": \"http://schema.org\", \"@type\": \"Jo...</td>\n",
       "      <td>2021-08-05 12:12:22.726192</td>\n",
       "      <td>Do you believe that people should compassionat...</td>\n",
       "      <td>bachelor degree</td>\n",
       "      <td>San Diego, CA</td>\n",
       "      <td>60.00</td>\n",
       "      <td>2673361149</td>\n",
       "      <td>https://www.linkedin.com/jobs/view/senior-site...</td>\n",
       "      <td>284700.00</td>\n",
       "      <td>131100.00</td>\n",
       "      <td>$131,100.00/yr - $284,700.00/yr</td>\n",
       "      <td>Senior Site Reliability Engineer</td>\n",
       "    </tr>\n",
       "  </tbody>\n",
       "</table>\n",
       "</div>"
      ],
      "text/plain": [
       "     Employment type                                         Industries  \\\n",
       "6503       Full-time                                       Oil & Energy   \n",
       "2175       Full-time                Information Technology and Services   \n",
       "2642       Full-time       Investment Management and Financial Services   \n",
       "8019       Full-time                                                NaN   \n",
       "2717       Full-time  Marketing and Advertising, Computer Software, ...   \n",
       "\n",
       "                                Job function   Seniority level  \\\n",
       "6503                  Information Technology         Associate   \n",
       "2175  Engineering and Information Technology  Mid-Senior level   \n",
       "2642                    Finance and Research    Not Applicable   \n",
       "8019                                     NaN               NaN   \n",
       "2717  Engineering and Information Technology         Associate   \n",
       "\n",
       "                    company  company_id  \\\n",
       "6503  AllTech Systems, Inc.  1507659.00   \n",
       "2175   Quantitative Systems  9848517.00   \n",
       "2642           Sartre Group  3075240.00   \n",
       "8019            NewslyMeApp 42931852.00   \n",
       "2717               GoFundMe  1271240.00   \n",
       "\n",
       "                                                context  \\\n",
       "6503  {\"@context\": \"http://schema.org\", \"@type\": \"Jo...   \n",
       "2175  {\"@context\": \"http://schema.org\", \"@type\": \"Jo...   \n",
       "2642  {\"@context\": \"http://schema.org\", \"@type\": \"Jo...   \n",
       "8019  {\"@context\": \"http://schema.org\", \"@type\": \"Jo...   \n",
       "2717  {\"@context\": \"http://schema.org\", \"@type\": \"Jo...   \n",
       "\n",
       "                            date  \\\n",
       "6503  2021-08-30 17:49:18.871675   \n",
       "2175  2021-08-02 20:51:22.889836   \n",
       "2642  2021-08-05 11:59:27.847717   \n",
       "8019  2021-10-17 23:13:58.887407   \n",
       "2717  2021-08-05 12:12:22.726192   \n",
       "\n",
       "                                            description        education  \\\n",
       "6503  Description The Digital Twin & Rich Media team...  bachelor degree   \n",
       "2175  We are a global leader in management consultin...  bachelor degree   \n",
       "2642  We’re partnering with one of the best performi...  bachelor degree   \n",
       "8019  Before you apply for the position, we ask you ...  bachelor degree   \n",
       "2717  Do you believe that people should compassionat...  bachelor degree   \n",
       "\n",
       "                             location  months_experience     post_id  \\\n",
       "6503                  Greater Houston                nan  2702731747   \n",
       "2175                     New York, NY                nan  2635811289   \n",
       "2642          New York, United States                nan  2669466843   \n",
       "8019  New York City Metropolitan Area              12.00  2754065876   \n",
       "2717                    San Diego, CA              60.00  2673361149   \n",
       "\n",
       "                                               post_url  sal_high   sal_low  \\\n",
       "6503  https://www.linkedin.com/jobs/view/machine-lea... 416000.00 312000.00   \n",
       "2175  https://www.linkedin.com/jobs/view/digital-pri... 350000.00 200000.00   \n",
       "2642  https://www.linkedin.com/jobs/view/investment-... 300000.00 150000.00   \n",
       "8019  https://www.linkedin.com/jobs/view/data-scient... 300000.00  80000.00   \n",
       "2717  https://www.linkedin.com/jobs/view/senior-site... 284700.00 131100.00   \n",
       "\n",
       "                               salary                             title  \n",
       "6503          $150.00/hr - $200.00/hr       Machine Learning Engineer V  \n",
       "2175  $200,000.00/yr - $350,000.00/yr  Digital Principal Data Scientist  \n",
       "2642  $150,000.00/yr - $300,000.00/yr         Investment Data Scientist  \n",
       "8019   $80,000.00/yr - $300,000.00/yr                    Data Scientist  \n",
       "2717  $131,100.00/yr - $284,700.00/yr  Senior Site Reliability Engineer  "
      ]
     },
     "execution_count": 11,
     "metadata": {},
     "output_type": "execute_result"
    }
   ],
   "source": [
    "df.sort_values(by='sal_high', ascending=False).head()"
   ]
  },
  {
   "cell_type": "markdown",
   "metadata": {},
   "source": [
    "Highest salary: **416,000**"
   ]
  },
  {
   "cell_type": "markdown",
   "metadata": {},
   "source": [
    "## Pivot Tables"
   ]
  },
  {
   "cell_type": "markdown",
   "metadata": {},
   "source": [
    "**1. Average Salary by Months of Experience**"
   ]
  },
  {
   "cell_type": "code",
   "execution_count": 12,
   "metadata": {},
   "outputs": [
    {
     "data": {
      "text/html": [
       "<div>\n",
       "<style scoped>\n",
       "    .dataframe tbody tr th:only-of-type {\n",
       "        vertical-align: middle;\n",
       "    }\n",
       "\n",
       "    .dataframe tbody tr th {\n",
       "        vertical-align: top;\n",
       "    }\n",
       "\n",
       "    .dataframe thead th {\n",
       "        text-align: right;\n",
       "    }\n",
       "</style>\n",
       "<table border=\"1\" class=\"dataframe\">\n",
       "  <thead>\n",
       "    <tr style=\"text-align: right;\">\n",
       "      <th></th>\n",
       "      <th>sal_high</th>\n",
       "      <th>sal_low</th>\n",
       "    </tr>\n",
       "    <tr>\n",
       "      <th>months_experience</th>\n",
       "      <th></th>\n",
       "      <th></th>\n",
       "    </tr>\n",
       "  </thead>\n",
       "  <tbody>\n",
       "    <tr>\n",
       "      <th>6.00</th>\n",
       "      <td>136000.00</td>\n",
       "      <td>70300.00</td>\n",
       "    </tr>\n",
       "    <tr>\n",
       "      <th>12.00</th>\n",
       "      <td>137795.12</td>\n",
       "      <td>85370.18</td>\n",
       "    </tr>\n",
       "    <tr>\n",
       "      <th>24.00</th>\n",
       "      <td>145379.31</td>\n",
       "      <td>89104.31</td>\n",
       "    </tr>\n",
       "    <tr>\n",
       "      <th>36.00</th>\n",
       "      <td>155843.31</td>\n",
       "      <td>96679.80</td>\n",
       "    </tr>\n",
       "    <tr>\n",
       "      <th>48.00</th>\n",
       "      <td>141788.45</td>\n",
       "      <td>92769.66</td>\n",
       "    </tr>\n",
       "  </tbody>\n",
       "</table>\n",
       "</div>"
      ],
      "text/plain": [
       "                   sal_high  sal_low\n",
       "months_experience                   \n",
       "6.00              136000.00 70300.00\n",
       "12.00             137795.12 85370.18\n",
       "24.00             145379.31 89104.31\n",
       "36.00             155843.31 96679.80\n",
       "48.00             141788.45 92769.66"
      ]
     },
     "execution_count": 12,
     "metadata": {},
     "output_type": "execute_result"
    }
   ],
   "source": [
    "pivot1 = df.pivot_table(values=['sal_low', 'sal_high'], index='months_experience', aggfunc='mean')\n",
    "pivot1.head()"
   ]
  },
  {
   "cell_type": "markdown",
   "metadata": {},
   "source": [
    "- This shows the average lower and upper salary for each level of experience."
   ]
  },
  {
   "cell_type": "markdown",
   "metadata": {},
   "source": [
    "**2. Salary Distribution by Company**"
   ]
  },
  {
   "cell_type": "code",
   "execution_count": 13,
   "metadata": {},
   "outputs": [
    {
     "data": {
      "text/html": [
       "<div>\n",
       "<style scoped>\n",
       "    .dataframe tbody tr th:only-of-type {\n",
       "        vertical-align: middle;\n",
       "    }\n",
       "\n",
       "    .dataframe tbody tr th {\n",
       "        vertical-align: top;\n",
       "    }\n",
       "\n",
       "    .dataframe thead tr th {\n",
       "        text-align: left;\n",
       "    }\n",
       "\n",
       "    .dataframe thead tr:last-of-type th {\n",
       "        text-align: right;\n",
       "    }\n",
       "</style>\n",
       "<table border=\"1\" class=\"dataframe\">\n",
       "  <thead>\n",
       "    <tr>\n",
       "      <th></th>\n",
       "      <th colspan=\"2\" halign=\"left\">mean</th>\n",
       "      <th colspan=\"2\" halign=\"left\">max</th>\n",
       "      <th colspan=\"2\" halign=\"left\">min</th>\n",
       "    </tr>\n",
       "    <tr>\n",
       "      <th></th>\n",
       "      <th>sal_high</th>\n",
       "      <th>sal_low</th>\n",
       "      <th>sal_high</th>\n",
       "      <th>sal_low</th>\n",
       "      <th>sal_high</th>\n",
       "      <th>sal_low</th>\n",
       "    </tr>\n",
       "    <tr>\n",
       "      <th>company_id</th>\n",
       "      <th></th>\n",
       "      <th></th>\n",
       "      <th></th>\n",
       "      <th></th>\n",
       "      <th></th>\n",
       "      <th></th>\n",
       "    </tr>\n",
       "  </thead>\n",
       "  <tbody>\n",
       "    <tr>\n",
       "      <th>1000.00</th>\n",
       "      <td>141000.00</td>\n",
       "      <td>88455.56</td>\n",
       "      <td>167000.00</td>\n",
       "      <td>110000.00</td>\n",
       "      <td>119000.00</td>\n",
       "      <td>78200.00</td>\n",
       "    </tr>\n",
       "    <tr>\n",
       "      <th>1001.00</th>\n",
       "      <td>136000.00</td>\n",
       "      <td>79500.00</td>\n",
       "      <td>136000.00</td>\n",
       "      <td>79500.00</td>\n",
       "      <td>136000.00</td>\n",
       "      <td>79500.00</td>\n",
       "    </tr>\n",
       "    <tr>\n",
       "      <th>1009.00</th>\n",
       "      <td>133500.00</td>\n",
       "      <td>70100.00</td>\n",
       "      <td>138000.00</td>\n",
       "      <td>74200.00</td>\n",
       "      <td>129000.00</td>\n",
       "      <td>66000.00</td>\n",
       "    </tr>\n",
       "    <tr>\n",
       "      <th>1016.00</th>\n",
       "      <td>132000.00</td>\n",
       "      <td>94100.00</td>\n",
       "      <td>132000.00</td>\n",
       "      <td>94100.00</td>\n",
       "      <td>132000.00</td>\n",
       "      <td>94100.00</td>\n",
       "    </tr>\n",
       "    <tr>\n",
       "      <th>1025.00</th>\n",
       "      <td>146500.00</td>\n",
       "      <td>79150.00</td>\n",
       "      <td>161000.00</td>\n",
       "      <td>89200.00</td>\n",
       "      <td>107000.00</td>\n",
       "      <td>72300.00</td>\n",
       "    </tr>\n",
       "  </tbody>\n",
       "</table>\n",
       "</div>"
      ],
      "text/plain": [
       "                mean                max                 min         \n",
       "            sal_high  sal_low  sal_high   sal_low  sal_high  sal_low\n",
       "company_id                                                          \n",
       "1000.00    141000.00 88455.56 167000.00 110000.00 119000.00 78200.00\n",
       "1001.00    136000.00 79500.00 136000.00  79500.00 136000.00 79500.00\n",
       "1009.00    133500.00 70100.00 138000.00  74200.00 129000.00 66000.00\n",
       "1016.00    132000.00 94100.00 132000.00  94100.00 132000.00 94100.00\n",
       "1025.00    146500.00 79150.00 161000.00  89200.00 107000.00 72300.00"
      ]
     },
     "execution_count": 13,
     "metadata": {},
     "output_type": "execute_result"
    }
   ],
   "source": [
    "pivot2 = df.pivot_table(values=['sal_low', 'sal_high'], index='company_id', aggfunc=['mean', 'max', 'min'])\n",
    "pivot2.head()"
   ]
  },
  {
   "cell_type": "markdown",
   "metadata": {},
   "source": [
    "- This gives the mean, max, and min salary offered by each company."
   ]
  },
  {
   "cell_type": "markdown",
   "metadata": {},
   "source": [
    "**3. Number of Job Posts by Experience Requirement**"
   ]
  },
  {
   "cell_type": "code",
   "execution_count": 14,
   "metadata": {},
   "outputs": [
    {
     "data": {
      "text/html": [
       "<div>\n",
       "<style scoped>\n",
       "    .dataframe tbody tr th:only-of-type {\n",
       "        vertical-align: middle;\n",
       "    }\n",
       "\n",
       "    .dataframe tbody tr th {\n",
       "        vertical-align: top;\n",
       "    }\n",
       "\n",
       "    .dataframe thead th {\n",
       "        text-align: right;\n",
       "    }\n",
       "</style>\n",
       "<table border=\"1\" class=\"dataframe\">\n",
       "  <thead>\n",
       "    <tr style=\"text-align: right;\">\n",
       "      <th></th>\n",
       "      <th>post_id</th>\n",
       "    </tr>\n",
       "    <tr>\n",
       "      <th>months_experience</th>\n",
       "      <th></th>\n",
       "    </tr>\n",
       "  </thead>\n",
       "  <tbody>\n",
       "    <tr>\n",
       "      <th>3.00</th>\n",
       "      <td>1</td>\n",
       "    </tr>\n",
       "    <tr>\n",
       "      <th>6.00</th>\n",
       "      <td>9</td>\n",
       "    </tr>\n",
       "    <tr>\n",
       "      <th>12.00</th>\n",
       "      <td>349</td>\n",
       "    </tr>\n",
       "    <tr>\n",
       "      <th>18.00</th>\n",
       "      <td>1</td>\n",
       "    </tr>\n",
       "    <tr>\n",
       "      <th>24.00</th>\n",
       "      <td>899</td>\n",
       "    </tr>\n",
       "  </tbody>\n",
       "</table>\n",
       "</div>"
      ],
      "text/plain": [
       "                   post_id\n",
       "months_experience         \n",
       "3.00                     1\n",
       "6.00                     9\n",
       "12.00                  349\n",
       "18.00                    1\n",
       "24.00                  899"
      ]
     },
     "execution_count": 14,
     "metadata": {},
     "output_type": "execute_result"
    }
   ],
   "source": [
    "pivot3 = df.pivot_table(values='post_id', index='months_experience', aggfunc='count')\n",
    "pivot3.head()"
   ]
  },
  {
   "cell_type": "markdown",
   "metadata": {},
   "source": [
    "- This counts how many job postings require a specific number of experience months."
   ]
  },
  {
   "cell_type": "markdown",
   "metadata": {},
   "source": [
    "## Visualization in Pandas"
   ]
  },
  {
   "cell_type": "markdown",
   "metadata": {},
   "source": [
    "**1. Top Job Titles in Demand**"
   ]
  },
  {
   "cell_type": "code",
   "execution_count": 15,
   "metadata": {},
   "outputs": [
    {
     "data": {
      "image/png": "[encoded data removed]",
      "text/plain": [
       "<Figure size 720x360 with 1 Axes>"
      ]
     },
     "metadata": {
      "needs_background": "light"
     },
     "output_type": "display_data"
    }
   ],
   "source": [
    "import matplotlib.pyplot as plt\n",
    "import seaborn as sns\n",
    "\n",
    "top_titles = df['title'].value_counts().head(10)\n",
    "\n",
    "plt.figure(figsize=(10, 5))\n",
    "sns.barplot(x=top_titles.values, y=top_titles.index, palette='Blues_r')\n",
    "plt.xlabel('Number of Job Openings')\n",
    "plt.ylabel('Job Titles')\n",
    "plt.title('Top Job Titles in Demand')\n",
    "plt.show()\n"
   ]
  },
  {
   "cell_type": "markdown",
   "metadata": {},
   "source": [
    "- Shows the most frequently posted job titles.\n",
    "- **Data Scientist** is the top job title in demand."
   ]
  },
  {
   "cell_type": "markdown",
   "metadata": {},
   "source": [
    "**2. Top Hiring Companies**"
   ]
  },
  {
   "cell_type": "code",
   "execution_count": 27,
   "metadata": {},
   "outputs": [
    {
     "data": {
      "image/png": "[encoded data removed]",
      "text/plain": [
       "<Figure size 576x576 with 1 Axes>"
      ]
     },
     "metadata": {},
     "output_type": "display_data"
    }
   ],
   "source": [
    "import matplotlib.pyplot as plt\n",
    "\n",
    "top_companies = df['company'].value_counts().head(5)  # Top 5 hiring companies\n",
    "\n",
    "plt.figure(figsize=(8, 8))\n",
    "plt.pie(top_companies, labels=top_companies.index, autopct='%1.1f%%', colors=['#ff9999','#66b3ff','#99ff99','#ffcc99','#c2c2f0'], startangle=140)\n",
    "plt.title(\"Top Hiring Companies\")\n",
    "plt.show()"
   ]
  },
  {
   "cell_type": "markdown",
   "metadata": {},
   "source": [
    "- The list shows companies with the highest number of job postings.\n",
    "- **Apple** has the most job openings among all companies."
   ]
  },
  {
   "cell_type": "markdown",
   "metadata": {},
   "source": [
    "**3. Salary Distribution Across Job Roles**"
   ]
  },
  {
   "cell_type": "code",
   "execution_count": 22,
   "metadata": {},
   "outputs": [
    {
     "data": {
      "image/png": "[encoded data removed]",
      "text/plain": [
       "<Figure size 720x360 with 1 Axes>"
      ]
     },
     "metadata": {
      "needs_background": "light"
     },
     "output_type": "display_data"
    }
   ],
   "source": [
    "import seaborn as sns\n",
    "import matplotlib.pyplot as plt\n",
    "\n",
    "df['avg_salary'] = (df['sal_low'] + df['sal_high']) / 2\n",
    "top_jobs = df['title'].value_counts().head(10).index\n",
    "df_top = df[df['title'].isin(top_jobs)]\n",
    "\n",
    "plt.figure(figsize=(10, 5))\n",
    "sns.boxplot(x='title', y='avg_salary', data=df_top, palette='coolwarm')\n",
    "plt.xticks(rotation=45)\n",
    "plt.title(\"Salary Distribution Across Different Job Roles\")\n",
    "plt.show()\n"
   ]
  },
  {
   "cell_type": "markdown",
   "metadata": {},
   "source": [
    "- Shows salary distribution for top job roles.\n",
    "- **Data Scientist & Software Engineer** have higher salaries.\n",
    "- **Customer Support & Intern roles** have lower salaries."
   ]
  },
  {
   "cell_type": "markdown",
   "metadata": {},
   "source": [
    "**4. Experience Requirement for Various Positions**"
   ]
  },
  {
   "cell_type": "code",
   "execution_count": 32,
   "metadata": {},
   "outputs": [
    {
     "data": {
      "image/png": "[encoded data removed]",
      "text/plain": [
       "<Figure size 720x360 with 1 Axes>"
      ]
     },
     "metadata": {
      "needs_background": "light"
     },
     "output_type": "display_data"
    }
   ],
   "source": [
    "import matplotlib.pyplot as plt\n",
    "\n",
    "plt.figure(figsize=(10, 5))\n",
    "plt.hist(df['months_experience'].dropna(), bins=20, edgecolor='black', alpha=0.7)\n",
    "plt.xlabel(\"Months of Experience\")\n",
    "plt.ylabel(\"Number of Job Listings\")\n",
    "plt.title(\"Distribution of Experience Requirements\")\n",
    "plt.grid(axis='y', linestyle='--', alpha=0.7)\n",
    "plt.show()"
   ]
  },
  {
   "cell_type": "markdown",
   "metadata": {},
   "source": [
    "- Shows experience requirements for different roles.\n",
    "- The majority of job listings require **25 to 50 months** of experience, with a peak around **50 months**."
   ]
  },
  {
   "cell_type": "markdown",
   "metadata": {},
   "source": [
    "**5. Locations with Highest Job Opportunities in Tech**"
   ]
  },
  {
   "cell_type": "code",
   "execution_count": 30,
   "metadata": {},
   "outputs": [
    {
     "data": {
      "image/png": "[encoded data removed]",
      "text/plain": [
       "<Figure size 576x360 with 2 Axes>"
      ]
     },
     "metadata": {
      "needs_background": "light"
     },
     "output_type": "display_data"
    }
   ],
   "source": [
    "import seaborn as sns\n",
    "import matplotlib.pyplot as plt\n",
    "\n",
    "# Count job postings by location\n",
    "location_counts = df['location'].value_counts().head(10).reset_index()\n",
    "location_counts.columns = ['Location', 'Job Count']\n",
    "\n",
    "# Heatmap\n",
    "plt.figure(figsize=(8, 5))\n",
    "sns.heatmap(location_counts.set_index('Location'), annot=True, cmap='Reds', linewidths=0.5, fmt='d')\n",
    "plt.title(\"Heatmap of Job Opportunities by Location\")\n",
    "plt.xlabel(\"Job Count\")\n",
    "plt.show()"
   ]
  },
  {
   "cell_type": "markdown",
   "metadata": {},
   "source": [
    "- Showcases the top locations with the highest number of tech job postings.\n",
    "- **United States** has the most job opportunities in the tech industry."
   ]
  }
 ],
 "metadata": {
  "kernelspec": {
   "display_name": "Python 3",
   "language": "python",
   "name": "python3"
  },
  "language_info": {
   "codemirror_mode": {
    "name": "ipython",
    "version": 3
   },
   "file_extension": ".py",
   "mimetype": "text/x-python",
   "name": "python",
   "nbconvert_exporter": "python",
   "pygments_lexer": "ipython3",
   "version": "3.7.1"
  }
 },
 "nbformat": 4,
 "nbformat_minor": 2
}
